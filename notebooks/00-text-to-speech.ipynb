{
 "cells": [
  {
   "cell_type": "code",
   "execution_count": 1,
   "metadata": {},
   "outputs": [],
   "source": [
    "# from transformers import pipeline\n",
    "from IPython.display import Audio\n"
   ]
  },
  {
   "cell_type": "code",
   "execution_count": 2,
   "metadata": {},
   "outputs": [],
   "source": [
    "from pytube import YouTube\n",
    "import os\n"
   ]
  },
  {
   "cell_type": "code",
   "execution_count": 3,
   "metadata": {},
   "outputs": [
    {
     "name": "stdout",
     "output_type": "stream",
     "text": [
      "/home/alex/tmp/the-jalait-project\n"
     ]
    },
    {
     "name": "stderr",
     "output_type": "stream",
     "text": [
      "/home/alex/tmp/the-jalait-project/.venv/lib/python3.10/site-packages/IPython/core/magics/osm.py:417: UserWarning: using dhist requires you to install the `pickleshare` library.\n",
      "  self.shell.db['dhist'] = compress_dhist(dhist)[-100:]\n"
     ]
    }
   ],
   "source": [
    "cd .."
   ]
  },
  {
   "cell_type": "code",
   "execution_count": 4,
   "metadata": {},
   "outputs": [],
   "source": [
    "\n",
    "# pipe = pipeline(\"text-to-speech\", model=\"suno/bark-small\")\n",
    "\n",
    "# text = \"[clears throat] This is a test ... and I just took a long pause.\"\n",
    "\n",
    "# output = pipe(text)"
   ]
  },
  {
   "cell_type": "code",
   "execution_count": 5,
   "metadata": {},
   "outputs": [],
   "source": [
    "# Audio(output[\"audio\"], rate=output[\"sampling_rate\"])"
   ]
  },
  {
   "cell_type": "code",
   "execution_count": 24,
   "metadata": {},
   "outputs": [],
   "source": [
    "from pathlib import Path\n",
    "import openai\n",
    "\n",
    "speech_file_path =  \"speech.mp3\"\n",
    "response = openai.audio.speech.create(\n",
    "    model=\"tts-1\", voice=\"alloy\", input=\"The quick brown fox jumped over the lazy dog.\"\n",
    ")\n",
    "response.stream_to_file(speech_file_path)"
   ]
  },
  {
   "cell_type": "code",
   "execution_count": 4,
   "metadata": {},
   "outputs": [
    {
     "data": {
      "text/plain": [
       "'hello, my name is jalait. I am your learning assistant.'"
      ]
     },
     "execution_count": 4,
     "metadata": {},
     "output_type": "execute_result"
    }
   ],
   "source": [
    "txt  = open(\"./data/text-to-speech.txt\", \"r\").read()\n",
    "txt"
   ]
  },
  {
   "cell_type": "code",
   "execution_count": 5,
   "metadata": {},
   "outputs": [],
   "source": [
    "\n",
    "\n",
    "response = openai.audio.speech.create(\n",
    "    model=\"tts-1\", voice=\"alloy\", input=txt\n",
    ")\n",
    "response.stream_to_file(speech_file_path)"
   ]
  },
  {
   "cell_type": "code",
   "execution_count": 6,
   "metadata": {},
   "outputs": [],
   "source": [
    "# url input from user\n",
    "url = \"https://www.youtube.com/watch?v=Se5zT8Sjtg4\"\n",
    "\n",
    "\n",
    "harry_potter_and_the_sorcerers_stone = \"https://www.youtube.com/watch?v=IsZsIjMz5Cg\"\n",
    "# \"https://www.youtube.com/watch?v=Se5zT8Sjtg4\"\n",
    "yt = YouTube(harry_potter_and_the_sorcerers_stone)"
   ]
  },
  {
   "cell_type": "code",
   "execution_count": 7,
   "metadata": {},
   "outputs": [],
   "source": [
    " \n",
    "# extract only audio \n",
    "video = yt.streams.filter(only_audio=True).first() \n",
    "  \n",
    "# check for destination to save file \n",
    "destination = \"yt.mp3\"\n",
    "  \n",
    "# download the file \n",
    "out_file = video.download(output_path=destination) \n",
    "  \n"
   ]
  },
  {
   "cell_type": "code",
   "execution_count": 9,
   "metadata": {},
   "outputs": [
    {
     "data": {
      "text/plain": [
       "'/home/alex/tmp/the-jalait-project/yt.mp3/Harry Potter and the Sorcerers Stone - Full Audiobook.mp4'"
      ]
     },
     "execution_count": 9,
     "metadata": {},
     "output_type": "execute_result"
    }
   ],
   "source": [
    "out_file"
   ]
  },
  {
   "cell_type": "code",
   "execution_count": 10,
   "metadata": {},
   "outputs": [
    {
     "name": "stdout",
     "output_type": "stream",
     "text": [
      "Harry Potter and the Sorcerer's Stone - Full Audiobook has been successfully downloaded.\n"
     ]
    }
   ],
   "source": [
    "# save the file\n",
    "base, ext = os.path.splitext(out_file)\n",
    "new_file = base + \".mp3\"\n",
    "new_file = new_file.replace(\" \", \"_\")\n",
    "os.rename(out_file, new_file)\n",
    "\n",
    "# result of success\n",
    "print(yt.title + \" has been successfully downloaded.\")"
   ]
  },
  {
   "cell_type": "code",
   "execution_count": 20,
   "metadata": {},
   "outputs": [],
   "source": [
    "from youtube_transcript_api import YouTubeTranscriptApi\n",
    "\n",
    "subtitles = YouTubeTranscriptApi.get_transcript(\"Se5zT8Sjtg4\")"
   ]
  },
  {
   "cell_type": "code",
   "execution_count": 25,
   "metadata": {},
   "outputs": [
    {
     "data": {
      "text/plain": [
       "\"- Hello, lovely students,and welcome back to English with Lucy.I have got such an exciting video for you,because now there are various\\nstudies, various claims,but the general consensusis that 90% to up to 95% of\\nall written and spoken Englishis done in just five grammar tenses.So what are we going to do today?We are going to go through\\nthose five grammar tensesso that you can get that\\nlittle bit closer to fluency.We're going to improve your\\ngrammar fluency and accuracyin the most efficient way possible.To make your life even easier,I have created a free\\nPDF for you to download.It contains all of the informationabout these five grammar tensesthat make up 90%, if not 95%,\\nof spoken and written English.We look at them in greater\\ndetail with more examples,and I've also included a quizso you can test your understanding.If you think that that will help you,if you'd like to get your free copy,all you have to do is clickon the link in the description box.You enter your name\\nand your email address.You sign up to my mailing list,and the PDF will arrive\\ndirectly in your inbox.After that, you will automatically receivemy free lesson PDFs every week,plus all of my news, course\\ninformation, and offers.It's a free service and you\\ncan unsubscribe at any time.Okay, let's start this amazingly\\nefficient grammar lessonby reviewing the English verb tenses.So technically there\\nare only three tenses,the present, the past, and the future,but we have four different\\naspects within these tenses.The simple, the continuous,\\nthe perfect simple,and the perfect continuous.When we combine these four aspectswith the three verb tenses,we get what we typically refer\\nto as the 12 verb tenses.Some people like to include\\nthe conditionals in the tenses.I don't.You will hear some people\\nsay there are 16 tenses.I like to set the conditionals apart.Let's have a look at\\neach one really quicklyjust to refresh our memories.The present simple is usedfor general truths, habits,\\nand permanent situations.The present continuous is\\nused for actions happening nowor around the present moment.The present perfect is\\nused for past actionswith a connection to the\\npresent or for experiences.And the present perfect\\ncontinuous is used for actionsthat started in the past and\\nare ongoing up to the present.Now the pasts.The past simple is used to talkabout completed actions in the past.The past continuous is used for actionsthat were in progress at a\\nspecific time in the past.The past perfect is used\\nfor actions completedbefore a specific time in the past.And the past perfect continuous is usedfor actions that started\\nin the past, continued,and were completed before\\nanother past event.Don't worry, we'll look at\\nsome of these in more detail.And finally, the future.We have the future simple,used for actions that\\nwill happen in the future.The future continuous,used for actions that will be in progressat a specific time in the future.The future perfect, used for\\nactions that will be completedbefore a specific time in the future.And the future perfect continuous,used for actions that will\\nstart in the future, continue,and be completed before\\nanother future event.Okay, that's a lot of\\ninformation to rememberand I covered it very, very briefly.Don't worry, we're going to go deeper.I know a lot of English learners strugglewith deciding which verb tense\\nto use in a given situation.Well, lucky for you, not all\\nverb tenses are created equal.Let's go ahead and look at\\nthis beautiful chart I madeto see which are the five\\nmost commonly used verb tensesin both spoken and written English.By the way, if you're\\ncurious about the numbers,I've added links to various\\nstudies on verb tense frequency.You can find those in the description box.Okay, time for the big reveal.Our most common verb tense,making up nearly 60% of all\\nEnglish communication is,drum roll, the present simple.We then have that followedby the past simple at close to 20%.Then the future simple at around 8%.So that's three tenses making nearly 88%of the entire usage,\\naccording to certain studies.Then we have the present\\nperfect simple at around 6%and present continuous at 5%.And then we have this tiny sliver of piethat contains the other seven verb tenses.Now, if you're good at maths,you'll notice that's 99%\\nfor all of those tenses.In the title I say 90%because I don't 100% trust those numbers.But don't let this chart fool you.Each and every verb tense\\nhas its time and place,but for general day-to-day conversations,these five are going to\\nbe your bread and butter.So let's go ahead and see\\nhow you can start usingeach of these tenses to\\nthe best of your ability.As you just learned, the\\npresent simple makes upa large portion of daily communicationand rightfully so, we live\\nin the present after all.Let's look at some of the most common usesof the present simple.Firstly, we use it to talk\\nabout facts and statementsthat are always true.Most people prefer to shop online.Or, the supermarket is\\nbusy on Saturday mornings.We also use it for statements\\nthat are true in the present.You are my best friend, Jasmine.Or, I can't bake to save\\nmy life. Look at this cake.You can just show a really rubbish cake.And we also use it for routine actionsor habits in the present,often used with an adverb of frequency.Do you always bike to work?Or, I never see her in\\nyoga class these days.We use it to refer to\\nscheduled events in the future.Carmine's holiday officially\\nstarts on the 5th of October.Or, my stag do kicks off at\\n10:00 PM at Boots and Brews.And the last one I'll mention today,we use it to give\\ndirections or instructions.Mix the flour and water together\\nto create a thick paste.Or, to get to the bookshop,walk down to the corner and take a left.As you can probably\\ntell from our examples,these kinds of statements and questionsmake up a large portion of\\nour daily conversations,so it's no wonder why the\\npresent simple topped our list.Next up, we have the past simple.Of course, this is the\\nsecond most used verb tensebecause we use it to talkabout completed actions in the past.And we sure do love to\\ntalk about the past.Look at a news article or\\npick up your favourite book.Most of them rely heavily\\non the past simple tense.Let's go ahead and look at some usesof this very versatile tense.It's commonly used to describe actionsthat occurred at a\\nspecific time in the past.I visited Greece last\\nsummer with my girlfriend.It's also used to narrate\\na series of past events.Yolanda woke up, brushed her teeth,and headed off to the office.It's used to express habitualor repeated actions in the past.Every morning, Ben watered\\nhis plants and fed his dog.And number four,it's used to discuss past\\nstates or conditions.We were so tired after\\nour long hike yesterday.Alright, next up we have\\nthe future simple tense.Let's start with spontaneous decisions.For example, I'm pretty\\nhungry. I will order some food.Predictions.The weather forecast says\\nit will rain tomorrow.Promises.I will get to the office 20 minutes earlyto get everything set up.Offers.Mom will be happy to help\\nyou with your projectif you need it.And requests.Will you pass me the salt?Got it?Good, because it's time to\\nmove on from the future simpleand talk about the present perfect simple.Don't let its long and slightly\\nconfusing name fool you.It's actually quite an\\neasy tense to master.We use it to talk about\\nunfinished states or actionsthat started in the past.He's been in his new\\nposition for about two weeks.We use it to talk about completed actionswith relevance to the present.My dad has just pulled up to the house.We use it for life events and experiences.They have travelled around\\nAsia and most of Europe.And we use it for actions or eventsat an unspecified time in the past.Yeah, we've tried that\\nrecipe. See, not so bad.Now let's move on to our\\nlast verb tense of the dayso you can get out thereand start showing off your grammar skills.The present continuous.We use it to talk about a\\nfew different situations,like describing things\\nhappening right now.Debra is whipping up some\\ndelicious banana pancakes.We use it to talk about\\nactivities that are not permanent.I'm giving this workout\\nplan a shot for a monthto see how it makes me feel.We use it for discussing plans or eventsthat will happen in the future.Mark isn't going to that\\nconference next month.He changed his mind.We use it for actions happening\\naround a specific time.I'm working this morning, but\\nI'll be free this afternoon.And we use it for describing thingsthat are gradually changing or improving.The city is slowly\\nbecoming more eco-friendlywith new recycling\\nprogrammes and bike lanes.Right, that about does it for me.As I said before,if you want to know a\\nlittle bit more information,more information about the\\nstructure, negatives, questions,download the PDF.All of the information is therewith more examples and a quiz\\nto test your understanding.It's a really good grammar tenses test.In this PDF, I also\\ntalk about the structureand formation of these tenses.So if you want to practise\\nthat, make sure you download it.I really hope you enjoyed today's lesson.I hope you learned something.If you want to take your\\nEnglish really seriously,we have launched our amazing\\nlevel programmes in English.We have our B1, B2, and C1 programmes.And if I do say so myself,\\nand I'm incredibly biassed,but I say it wholeheartedly,\\nthey are amazing.We have had the most incredible feedback.You can visit englishwithlucy.comor visit the links in the description box.I will see you soon for\\nanother lesson. Bye.(upbeat music)\""
      ]
     },
     "execution_count": 25,
     "metadata": {},
     "output_type": "execute_result"
    }
   ],
   "source": [
    "lucy_text = \"\".join([i.get(\"text\") for i in subtitles])\n",
    "lucy_text"
   ]
  },
  {
   "cell_type": "code",
   "execution_count": 27,
   "metadata": {},
   "outputs": [
    {
     "data": {
      "text/plain": [
       "9532"
      ]
     },
     "execution_count": 27,
     "metadata": {},
     "output_type": "execute_result"
    }
   ],
   "source": [
    "len(lucy_text)"
   ]
  },
  {
   "cell_type": "code",
   "execution_count": 30,
   "metadata": {},
   "outputs": [],
   "source": [
    "lucy_text_short = lucy_text[:4095]"
   ]
  },
  {
   "cell_type": "code",
   "execution_count": 31,
   "metadata": {},
   "outputs": [],
   "source": [
    "response = openai.audio.speech.create(\n",
    "    model=\"tts-1\", voice=\"alloy\", input=lucy_text_short\n",
    ")\n",
    "response.stream_to_file(speech_file_path)"
   ]
  },
  {
   "cell_type": "code",
   "execution_count": null,
   "metadata": {},
   "outputs": [],
   "source": []
  }
 ],
 "metadata": {
  "kernelspec": {
   "display_name": ".venv",
   "language": "python",
   "name": "python3"
  },
  "language_info": {
   "codemirror_mode": {
    "name": "ipython",
    "version": 3
   },
   "file_extension": ".py",
   "mimetype": "text/x-python",
   "name": "python",
   "nbconvert_exporter": "python",
   "pygments_lexer": "ipython3",
   "version": "3.10.12"
  }
 },
 "nbformat": 4,
 "nbformat_minor": 2
}
