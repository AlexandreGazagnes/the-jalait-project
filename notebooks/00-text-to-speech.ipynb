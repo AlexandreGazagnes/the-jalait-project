{
 "cells": [
  {
   "cell_type": "code",
   "execution_count": null,
   "metadata": {},
   "outputs": [],
   "source": [
    "# from transformers import pipeline\n",
    "from IPython.display import Audio\n"
   ]
  },
  {
   "cell_type": "code",
   "execution_count": null,
   "metadata": {},
   "outputs": [],
   "source": [
    "from pytube import YouTube\n",
    "import os\n"
   ]
  },
  {
   "cell_type": "code",
   "execution_count": null,
   "metadata": {},
   "outputs": [],
   "source": [
    "cd .."
   ]
  },
  {
   "cell_type": "code",
   "execution_count": null,
   "metadata": {},
   "outputs": [],
   "source": [
    "\n",
    "# pipe = pipeline(\"text-to-speech\", model=\"suno/bark-small\")\n",
    "\n",
    "# text = \"[clears throat] This is a test ... and I just took a long pause.\"\n",
    "\n",
    "# output = pipe(text)"
   ]
  },
  {
   "cell_type": "code",
   "execution_count": null,
   "metadata": {},
   "outputs": [],
   "source": [
    "# Audio(output[\"audio\"], rate=output[\"sampling_rate\"])"
   ]
  },
  {
   "cell_type": "code",
   "execution_count": null,
   "metadata": {},
   "outputs": [],
   "source": [
    "from pathlib import Path\n",
    "import openai\n",
    "\n",
    "speech_file_path =  \"speech.mp3\"\n",
    "response = openai.audio.speech.create(\n",
    "    model=\"tts-1\", voice=\"alloy\", input=\"The quick brown fox jumped over the lazy dog.\"\n",
    ")\n",
    "response.stream_to_file(speech_file_path)"
   ]
  },
  {
   "cell_type": "code",
   "execution_count": null,
   "metadata": {},
   "outputs": [],
   "source": [
    "txt  = open(\"./data/text-to-speech.txt\", \"r\").read()\n",
    "txt"
   ]
  },
  {
   "cell_type": "code",
   "execution_count": null,
   "metadata": {},
   "outputs": [],
   "source": [
    "\n",
    "\n",
    "response = openai.audio.speech.create(\n",
    "    model=\"tts-1\", voice=\"alloy\", input=txt\n",
    ")\n",
    "response.stream_to_file(speech_file_path)"
   ]
  },
  {
   "cell_type": "code",
   "execution_count": null,
   "metadata": {},
   "outputs": [],
   "source": [
    "# url input from user\n",
    "url = \"https://www.youtube.com/watch?v=Se5zT8Sjtg4\"\n",
    "\n",
    "\n",
    "\n",
    "yt = YouTube(url)"
   ]
  },
  {
   "cell_type": "code",
   "execution_count": null,
   "metadata": {},
   "outputs": [],
   "source": [
    "harry_potter_and_the_sorcerers_stone = \"https://www.youtube.com/watch?v=IsZsIjMz5Cg\"\n",
    "# \"https://www.youtube.com/watch?v=Se5zT8Sjtg4\"\n",
    "yt = YouTube(harry_potter_and_the_sorcerers_stone)"
   ]
  },
  {
   "cell_type": "code",
   "execution_count": null,
   "metadata": {},
   "outputs": [],
   "source": [
    " \n",
    "# extract only audio \n",
    "video = yt.streams.filter(only_audio=True).first() \n",
    "  \n",
    "# check for destination to save file \n",
    "destination = \"./data/\"\n",
    "  \n",
    "# download the file \n",
    "out_file = video.download(output_path=destination) \n",
    "  \n"
   ]
  },
  {
   "cell_type": "code",
   "execution_count": null,
   "metadata": {},
   "outputs": [],
   "source": [
    "out_file"
   ]
  },
  {
   "cell_type": "code",
   "execution_count": null,
   "metadata": {},
   "outputs": [],
   "source": [
    "# save the file\n",
    "# base, ext = os.path.splitext(out_file)\n",
    "# new_file = base + \".mp3\"\n",
    "new_file = out_file.replace(\" \", \"_\")\n",
    "os.rename(out_file, new_file)\n",
    "\n",
    "# result of success\n",
    "print(yt.title + \" has been successfully downloaded.\")"
   ]
  },
  {
   "cell_type": "code",
   "execution_count": null,
   "metadata": {},
   "outputs": [],
   "source": [
    "from youtube_transcript_api import YouTubeTranscriptApi\n",
    "\n",
    "subtitles = YouTubeTranscriptApi.get_transcript(\"Se5zT8Sjtg4\")"
   ]
  },
  {
   "cell_type": "code",
   "execution_count": null,
   "metadata": {},
   "outputs": [],
   "source": [
    "lucy_text = \"\".join([i.get(\"text\") for i in subtitles])\n",
    "lucy_text"
   ]
  },
  {
   "cell_type": "code",
   "execution_count": null,
   "metadata": {},
   "outputs": [],
   "source": [
    "len(lucy_text)"
   ]
  },
  {
   "cell_type": "code",
   "execution_count": null,
   "metadata": {},
   "outputs": [],
   "source": [
    "lucy_text_short = lucy_text[:4095]"
   ]
  },
  {
   "cell_type": "code",
   "execution_count": null,
   "metadata": {},
   "outputs": [],
   "source": [
    "response = openai.audio.speech.create(\n",
    "    model=\"tts-1\", voice=\"alloy\", input=lucy_text_short\n",
    ")\n",
    "response.stream_to_file(speech_file_path)"
   ]
  },
  {
   "cell_type": "code",
   "execution_count": null,
   "metadata": {},
   "outputs": [],
   "source": []
  }
 ],
 "metadata": {
  "kernelspec": {
   "display_name": ".venv",
   "language": "python",
   "name": "python3"
  },
  "language_info": {
   "codemirror_mode": {
    "name": "ipython",
    "version": 3
   },
   "file_extension": ".py",
   "mimetype": "text/x-python",
   "name": "python",
   "nbconvert_exporter": "python",
   "pygments_lexer": "ipython3",
   "version": "3.10.12"
  }
 },
 "nbformat": 4,
 "nbformat_minor": 2
}
